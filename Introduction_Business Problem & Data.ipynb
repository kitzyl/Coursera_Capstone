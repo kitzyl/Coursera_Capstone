{
 "cells": [
  {
   "cell_type": "markdown",
   "metadata": {
    "collapsed": true
   },
   "source": [
    "# Aim: Find location in Sydney to open a bookshop"
   ]
  },
  {
   "cell_type": "markdown",
   "metadata": {},
   "source": [
    "This project aims to identify areas in Sydney that can support and sustain bookshops, using Melbourne as a model of a successful equilibrium of bookshops in a city."
   ]
  },
  {
   "cell_type": "markdown",
   "metadata": {},
   "source": [
    "# Target Audience: Potential booksellers"
   ]
  },
  {
   "cell_type": "markdown",
   "metadata": {},
   "source": [
    "The audience for this project are potential small business owners and professional booksellers (such as those in the [Australian Booksellers Association](https://www.booksellers.org.au/)) looking to expand their business."
   ]
  },
  {
   "cell_type": "markdown",
   "metadata": {},
   "source": [
    "# Why should a potential bookseller open a bookshop in Sydney?"
   ]
  },
  {
   "cell_type": "markdown",
   "metadata": {},
   "source": [
    "With the number of bookshops declining and the increasing reach of massive online conglomerates, it is even more important now to support small businesses wherever possible to avoid a future monopoly. Identifying where potential customers are and bringing the business to them can help the money stay local and boost the local economy. Moreover, bookshops are more than just shops that sell books, but community spaces for literary and artistic events.\n",
    "\n",
    "Sydney, Australia's most populous city, has the potential to sustain more physical bookshops than it currently has. In fact, Sydney and Melbourne (Australia's second most populous city) have been informally locked in a friendly competition over [which is the \"better\" city](https://www.google.com/search?q=sydney+vs+melbourne) for what feels like forever. From the weather to housing prices to their local coffee scenes, the comparisons between the cities have been endless and subject to an individual's preferences.\n",
    "\n",
    "Of particular interest to booklovers and booksellers is that Melbourne has been designated as an [UNESCO City of Literature](https://cityofliterature.com.au/) since 2008, cementing Melbourne's status as a vibrant hub of literary culture with local creative talents. This is furthermore backed up by Melbourne's abundant bookshops, in particular its independent shops as opposed to big chain stores.\n",
    "\n",
    "Despite its higher population (and therefore higher number of potential readers), Sydney seems to lag behind Melbourne in this creative pursuit. Assuming the percentage of readers remain constant across a population, one possibility for this discrepancy is that even though Sydney simply lacks the physical bookshops for them to show monetary support in, i.e. Sydneysiders shop for their books online more often than instore.\n",
    "\n",
    "The analysis from this project aims to help potential booksellers identify Sydney areas where a bookshop is lacking yet sustainable, which will hopefully be one step closer transforming Sydney into a veritable literary city in its own right."
   ]
  },
  {
   "cell_type": "markdown",
   "metadata": {},
   "source": [
    "# Data"
   ]
  },
  {
   "cell_type": "markdown",
   "metadata": {},
   "source": [
    "There are many variables that can account for the number of bookshops in an area, such as education, gender, income, local transportation, surrounding amenabilities, population, etc. For the purposes of this project, we will only use Median Income as our main variable as it often correlates quite well to many of the aforementioned variables, e.g. literacy level can be linked to education level which in turn links to income level.\n",
    "\n",
    "Thus we will use Foursquare data to identify the particular locations of bookshops (in the form of postcodes) in Melbourne. We will then cross-reference these locations/postcodes with [taxation data from the Australian Taxation Office](https://data.gov.au/data/dataset/taxation-statistics-2017-18/resource/343f1d18-067b-44ee-b7b3-1b04c4872b86?inner_span=True) to identify any correlations with the median income of those locations. Similarly, we will apply the same analyses on Sydney bookshops and locations, and use the data from the Melbourne analyses to identify Sydney locations whose median income indicate a need/support for a bookshop. "
   ]
  }
 ],
 "metadata": {
  "kernelspec": {
   "display_name": "Python 3.7",
   "language": "python",
   "name": "python3"
  },
  "language_info": {
   "codemirror_mode": {
    "name": "ipython",
    "version": 3
   },
   "file_extension": ".py",
   "mimetype": "text/x-python",
   "name": "python",
   "nbconvert_exporter": "python",
   "pygments_lexer": "ipython3",
   "version": "3.7.10"
  }
 },
 "nbformat": 4,
 "nbformat_minor": 1
}
